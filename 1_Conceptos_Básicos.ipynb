{
  "nbformat": 4,
  "nbformat_minor": 0,
  "metadata": {
    "colab": {
      "provenance": [],
      "authorship_tag": "ABX9TyO8QR36ioHbd/j0jIbhp0pl"
    },
    "kernelspec": {
      "name": "python3",
      "display_name": "Python 3"
    },
    "language_info": {
      "name": "python"
    }
  },
  "cells": [
    {
      "cell_type": "markdown",
      "source": [
        "# **Variables**"
      ],
      "metadata": {
        "id": "clmrNTAq_OP-"
      }
    },
    {
      "cell_type": "code",
      "execution_count": null,
      "metadata": {
        "id": "CVs2iB38aGB2",
        "colab": {
          "base_uri": "https://localhost:8080/"
        },
        "outputId": "ee6f0653-1ef0-498c-c893-7f6004a00a4b"
      },
      "outputs": [
        {
          "output_type": "execute_result",
          "data": {
            "text/plain": [
              "int"
            ]
          },
          "metadata": {},
          "execution_count": 2
        }
      ],
      "source": [
        "# Enteros o denominados  (int)\n",
        "x=1\n",
        "type(x)"
      ]
    },
    {
      "cell_type": "code",
      "source": [
        "#Decimales o denominados  (float)\n",
        "y = 1.445\n",
        "type(y)"
      ],
      "metadata": {
        "colab": {
          "base_uri": "https://localhost:8080/"
        },
        "id": "BtNyFxAs_SkY",
        "outputId": "957f7e66-c8ee-44e6-80f8-887bf322adf8"
      },
      "execution_count": null,
      "outputs": [
        {
          "output_type": "execute_result",
          "data": {
            "text/plain": [
              "float"
            ]
          },
          "metadata": {},
          "execution_count": 3
        }
      ]
    },
    {
      "cell_type": "code",
      "source": [
        "#Conjunto de simbolos (números o letras) o denominados  (str)\n",
        "x = \"hola\"\n",
        "y = \"123\"  #estos es un conjunto de número, pero no permite hacer operaciones matemáticas\n",
        "type(y) #muestra cual es el tipo de variable"
      ],
      "metadata": {
        "colab": {
          "base_uri": "https://localhost:8080/"
        },
        "id": "b_Sic6Hh_VJ_",
        "outputId": "e692b42b-615b-4e9d-cdcf-d7e8d56abb62"
      },
      "execution_count": null,
      "outputs": [
        {
          "output_type": "execute_result",
          "data": {
            "text/plain": [
              "str"
            ]
          },
          "metadata": {},
          "execution_count": 5
        }
      ]
    },
    {
      "cell_type": "markdown",
      "source": [
        "# **Operadores**"
      ],
      "metadata": {
        "id": "PdVDufRJ_XNd"
      }
    },
    {
      "cell_type": "code",
      "source": [
        "#Sumar (+)\n",
        "x = 23.5\n",
        "y = 7\n",
        "z = x + y\n",
        "print(z)"
      ],
      "metadata": {
        "colab": {
          "base_uri": "https://localhost:8080/"
        },
        "id": "19gXucF8_X2X",
        "outputId": "376efc03-83b0-4479-d58c-27b234a4b9b0"
      },
      "execution_count": null,
      "outputs": [
        {
          "output_type": "stream",
          "name": "stdout",
          "text": [
            "30.5\n"
          ]
        }
      ]
    },
    {
      "cell_type": "code",
      "source": [
        "# Resta (-)\n",
        "x = 5\n",
        "y = 15\n",
        "z = y - x\n",
        "print(z)"
      ],
      "metadata": {
        "colab": {
          "base_uri": "https://localhost:8080/"
        },
        "id": "e2IbsPiR_Zcp",
        "outputId": "be80d2d7-fa2a-4f80-c2c0-8c2df4cff1a0"
      },
      "execution_count": null,
      "outputs": [
        {
          "output_type": "stream",
          "name": "stdout",
          "text": [
            "10\n"
          ]
        }
      ]
    },
    {
      "cell_type": "code",
      "source": [
        "# Multiplicación (*)\n",
        "x = 10\n",
        "y = 4\n",
        "z = y * x\n",
        "print(z)"
      ],
      "metadata": {
        "colab": {
          "base_uri": "https://localhost:8080/"
        },
        "id": "glEsdqf0_ZgR",
        "outputId": "e4dd1bfe-9ac8-4f30-91bc-f5743f71f6d3"
      },
      "execution_count": null,
      "outputs": [
        {
          "output_type": "stream",
          "name": "stdout",
          "text": [
            "40\n"
          ]
        }
      ]
    },
    {
      "cell_type": "code",
      "source": [
        "# División (/)\n",
        "x = 3\n",
        "y = 9\n",
        "z = y / x\n",
        "print(z)"
      ],
      "metadata": {
        "colab": {
          "base_uri": "https://localhost:8080/"
        },
        "id": "ALf6HGd1_Zol",
        "outputId": "d7a30353-d268-46e6-f68c-f4a7d4674d30"
      },
      "execution_count": null,
      "outputs": [
        {
          "output_type": "stream",
          "name": "stdout",
          "text": [
            "3.0\n"
          ]
        }
      ]
    },
    {
      "cell_type": "code",
      "source": [
        "# Potencia (**)\n",
        "x = 2\n",
        "y = 3\n",
        "\n",
        "z = y**x\n",
        "\n",
        "print(z)"
      ],
      "metadata": {
        "colab": {
          "base_uri": "https://localhost:8080/"
        },
        "id": "LgrgiWvw_ZtE",
        "outputId": "3e8fec59-c08c-47e2-ec5c-daa486a9c693"
      },
      "execution_count": null,
      "outputs": [
        {
          "output_type": "stream",
          "name": "stdout",
          "text": [
            "9\n"
          ]
        }
      ]
    },
    {
      "cell_type": "markdown",
      "source": [
        "# **Expresiones**"
      ],
      "metadata": {
        "id": "kyzmj-J__fZe"
      }
    },
    {
      "cell_type": "code",
      "source": [
        "#Entre variables enteros (int) y/o decimales (float)\n",
        "x = 1.5\n",
        "y = 2.5\n",
        "z =  x + y\n",
        "print(z)"
      ],
      "metadata": {
        "colab": {
          "base_uri": "https://localhost:8080/"
        },
        "id": "UM7enJR2_Z9T",
        "outputId": "a76c833a-d61c-4b6d-c518-748eab6d7fa2"
      },
      "execution_count": null,
      "outputs": [
        {
          "output_type": "stream",
          "name": "stdout",
          "text": [
            "4.0\n"
          ]
        }
      ]
    },
    {
      "cell_type": "code",
      "source": [
        "#Entre variables string\n",
        "x = \"Buenos\"\n",
        "y = \" Días\"\n",
        "z = x + y\n",
        "print(z)"
      ],
      "metadata": {
        "colab": {
          "base_uri": "https://localhost:8080/"
        },
        "id": "cVSx7KGq_Z__",
        "outputId": "265a3d14-9585-43b4-a066-0348718371b3"
      },
      "execution_count": null,
      "outputs": [
        {
          "output_type": "stream",
          "name": "stdout",
          "text": [
            "Buenos Días\n"
          ]
        }
      ]
    },
    {
      "cell_type": "code",
      "source": [
        "#Entre string y entero o decimal, se requiere transformar la variable\n",
        "x = 1\n",
        "y = \"123\"\n",
        "\n",
        "z = x + int(y)\n",
        "\n",
        "print(z)"
      ],
      "metadata": {
        "colab": {
          "base_uri": "https://localhost:8080/"
        },
        "id": "VYeIHxyT_lKu",
        "outputId": "49e911f1-112d-4757-dfce-cf227fea0442"
      },
      "execution_count": null,
      "outputs": [
        {
          "output_type": "stream",
          "name": "stdout",
          "text": [
            "124\n"
          ]
        }
      ]
    },
    {
      "cell_type": "markdown",
      "source": [
        "**Orden de operación den una expresión**\n",
        "\n",
        "1. Potencia\n",
        "2. Multiplicación o división\n",
        "3. Suma o resta"
      ],
      "metadata": {
        "id": "92QRHNgS_mmi"
      }
    },
    {
      "cell_type": "code",
      "source": [
        "20-2**5/4*2"
      ],
      "metadata": {
        "colab": {
          "base_uri": "https://localhost:8080/"
        },
        "id": "X784EUpB_m9V",
        "outputId": "681bdd77-cb34-43cc-d881-d983f658cd71"
      },
      "execution_count": null,
      "outputs": [
        {
          "output_type": "execute_result",
          "data": {
            "text/plain": [
              "4.0"
            ]
          },
          "metadata": {},
          "execution_count": 21
        }
      ]
    },
    {
      "cell_type": "code",
      "source": [
        "4*2"
      ],
      "metadata": {
        "colab": {
          "base_uri": "https://localhost:8080/"
        },
        "id": "P5Ou4pwKdYx3",
        "outputId": "ae1032e4-997c-4fdc-8e80-b13126b96450"
      },
      "execution_count": null,
      "outputs": [
        {
          "output_type": "execute_result",
          "data": {
            "text/plain": [
              "8"
            ]
          },
          "metadata": {},
          "execution_count": 23
        }
      ]
    },
    {
      "cell_type": "markdown",
      "source": [
        "# **3 Alternativas para programa**"
      ],
      "metadata": {
        "id": "e4jZrS4L_sxZ"
      }
    },
    {
      "cell_type": "code",
      "source": [
        "#Secuenciales\n",
        "x = 1\n",
        "x = x + 2\n",
        "print(x)"
      ],
      "metadata": {
        "colab": {
          "base_uri": "https://localhost:8080/"
        },
        "id": "0hRXkMFg_sFO",
        "outputId": "a24d7878-0c46-46c9-b076-f12a5d5c9c59"
      },
      "execution_count": null,
      "outputs": [
        {
          "output_type": "stream",
          "name": "stdout",
          "text": [
            "3\n"
          ]
        }
      ]
    },
    {
      "cell_type": "code",
      "source": [
        "#Condicionales\n",
        "\n",
        "x = 33\n",
        "if x < 20:\n",
        "  print(\"bien\")\n",
        "if x > 30:\n",
        "  print(\"mal\")"
      ],
      "metadata": {
        "colab": {
          "base_uri": "https://localhost:8080/"
        },
        "id": "hQF6gyPi_yyA",
        "outputId": "52ed6881-ad38-45d7-c4d3-32bd635d930b"
      },
      "execution_count": null,
      "outputs": [
        {
          "output_type": "stream",
          "name": "stdout",
          "text": [
            "mal\n"
          ]
        }
      ]
    },
    {
      "cell_type": "code",
      "source": [
        "#Repetitivos\n",
        "\n",
        "x = 6\n",
        "\n",
        "while x > 0:\n",
        "  print(x)\n",
        "  x=x-2"
      ],
      "metadata": {
        "colab": {
          "base_uri": "https://localhost:8080/"
        },
        "id": "CT35sVF8_zFQ",
        "outputId": "3b58fd63-91b0-42c4-87ba-9c0a02a498f6"
      },
      "execution_count": null,
      "outputs": [
        {
          "output_type": "stream",
          "name": "stdout",
          "text": [
            "6\n",
            "4\n",
            "2\n"
          ]
        }
      ]
    },
    {
      "cell_type": "markdown",
      "source": [
        "## **input()**"
      ],
      "metadata": {
        "id": "IV-I46tuABgV"
      }
    },
    {
      "cell_type": "markdown",
      "source": [
        "**Ejemplo** **saludo**"
      ],
      "metadata": {
        "id": "qZfI08XVAGki"
      }
    },
    {
      "cell_type": "code",
      "source": [
        "#La función input() le permite solicitar alguna variable\n",
        "\n",
        "x = input(\"¿Cuál es su nombre?   \")\n",
        "\n",
        "print(\"Hola\", x)"
      ],
      "metadata": {
        "colab": {
          "base_uri": "https://localhost:8080/"
        },
        "id": "fsNTOAeGAG6U",
        "outputId": "341a2b45-203c-45f1-e2bf-470993cddb13"
      },
      "execution_count": null,
      "outputs": [
        {
          "output_type": "stream",
          "name": "stdout",
          "text": [
            "¿Cuál es su nombre?   Oscar Vargas\n",
            "Hola Oscar Vargas\n"
          ]
        }
      ]
    },
    {
      "cell_type": "markdown",
      "source": [
        "**Ejemplo** **zonas** **horarios**"
      ],
      "metadata": {
        "id": "kElXvzgcAXp7"
      }
    },
    {
      "cell_type": "code",
      "source": [
        "hr_colombia = input(\"¿Cuál es la hora en Colombia?  \")\n",
        "\n",
        "hr_argentina = float(hr_colombia) + 2\n",
        "\n",
        "\n",
        "print(\"La hora en Argentina es\", hr_argentina,\"hrs\")"
      ],
      "metadata": {
        "colab": {
          "base_uri": "https://localhost:8080/"
        },
        "id": "1v8rtL0PAb-Z",
        "outputId": "25f0a0f6-e821-49c4-c65e-25a60d2e56b9"
      },
      "execution_count": null,
      "outputs": [
        {
          "output_type": "stream",
          "name": "stdout",
          "text": [
            "¿Cuál es la hora en Colombia?  10\n",
            "La hora en Argentina es 12.0 hrs\n"
          ]
        }
      ]
    },
    {
      "cell_type": "markdown",
      "source": [
        "**Ejemplo de convertir grados de temperatura**"
      ],
      "metadata": {
        "id": "fbkH4cB_AnIE"
      }
    },
    {
      "cell_type": "code",
      "source": [
        "x = input(\"¿Cuál es la temperatura en grados fahrenheit?  \")\n",
        "y = (float(x)-32)*(5/9)\n",
        "print(\"Esta temperatura en grado centigrado es\",y)"
      ],
      "metadata": {
        "id": "5LdI4kx1ApSu"
      },
      "execution_count": null,
      "outputs": []
    },
    {
      "cell_type": "markdown",
      "source": [
        "**Ejemplo de pago con dos variables**"
      ],
      "metadata": {
        "id": "VY5L8CNCAmUJ"
      }
    },
    {
      "cell_type": "code",
      "source": [
        "x = input(\"¿Cuantas horas trabajo en la semana?  \")\n",
        "y = input(\"¿Cual es la tasa de pago $/hrs?  \")\n",
        "z = float(x) * float(y)\n",
        "print(\"Su pago es de\", z)"
      ],
      "metadata": {
        "id": "tI2sRsDSAj0B"
      },
      "execution_count": null,
      "outputs": []
    },
    {
      "cell_type": "markdown",
      "source": [
        "**Ejemplo con if**"
      ],
      "metadata": {
        "id": "IguO_f9FBfHT"
      }
    },
    {
      "cell_type": "code",
      "source": [
        "# if significa que \"si\" cumple con la condición se da el resultado\n",
        "x = input(\"¿Cuatos años tiene?  \")\n",
        "x = float(x) #es necesario convertir el tipo de variable\n",
        "if x < 18:\n",
        "  print(\"Es menor de edad\")"
      ],
      "metadata": {
        "id": "d8yDaWv_BjHy"
      },
      "execution_count": null,
      "outputs": []
    },
    {
      "cell_type": "code",
      "source": [
        "#else significa que \"sino\" se cumple la condición se imprime el resultado\n",
        "x = input(\"¿Cuatos años tiene?  \")\n",
        "x = float(x) #es necesario convertir el tipo de variable\n",
        "if x >= 18:\n",
        "  print(\"Es mayor de edad\")\n",
        "else:\n",
        "  print(\"Es menor de edad\")"
      ],
      "metadata": {
        "id": "wbO6z5DkCNUs"
      },
      "execution_count": null,
      "outputs": []
    },
    {
      "cell_type": "code",
      "source": [
        "x = float(input(\"¿Cual fue su calificación?  \"))\n",
        "\n",
        "if x >= 4:\n",
        "  print(\"Excelente nota\")\n",
        "elif x >= 3:\n",
        "  print(\"Aceptable nota\")\n",
        "else:\n",
        "  print(\"Deficiente nota\")"
      ],
      "metadata": {
        "colab": {
          "base_uri": "https://localhost:8080/"
        },
        "id": "PQCQWpIjCmad",
        "outputId": "804578ce-823a-493f-f056-51f42068fd0e"
      },
      "execution_count": null,
      "outputs": [
        {
          "output_type": "stream",
          "name": "stdout",
          "text": [
            "¿Cual fue su calificación?  2.9\n",
            "Deficiente nota\n"
          ]
        }
      ]
    }
  ]
}